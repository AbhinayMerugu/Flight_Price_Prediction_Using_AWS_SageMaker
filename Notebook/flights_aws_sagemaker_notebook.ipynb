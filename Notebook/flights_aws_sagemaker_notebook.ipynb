{
  "cells": [
    {
      "cell_type": "markdown",
      "id": "33c663a2",
      "metadata": {
        "id": "33c663a2"
      },
      "source": [
        "## 1. Import Libraries"
      ]
    },
    {
      "cell_type": "code",
      "execution_count": null,
      "id": "14c00df7",
      "metadata": {
        "collapsed": true,
        "id": "14c00df7"
      },
      "outputs": [],
      "source": [
        "!pip install xgboost"
      ]
    },
    {
      "cell_type": "code",
      "execution_count": null,
      "id": "a385fcb3",
      "metadata": {
        "collapsed": true,
        "id": "a385fcb3"
      },
      "outputs": [],
      "source": [
        "!pip install feature-engine"
      ]
    },
    {
      "cell_type": "code",
      "execution_count": null,
      "id": "f85aa0e1",
      "metadata": {
        "colab": {
          "base_uri": "https://localhost:8080/",
          "height": 53
        },
        "id": "f85aa0e1",
        "outputId": "85a25281-34ab-4fac-9b99-abece3eeaef7"
      },
      "outputs": [
        {
          "output_type": "execute_result",
          "data": {
            "text/plain": [
              "'import sagemaker\\nfrom sagemaker.estimator import Estimator\\nfrom sagemaker.inputs import TrainingInput\\nfrom sagemaker.tuner import (\\n    IntegerParameter,\\n    ContinuousParameter,\\n    HyperparameterTuner\\n)'"
            ],
            "application/vnd.google.colaboratory.intrinsic+json": {
              "type": "string"
            }
          },
          "metadata": {},
          "execution_count": 33
        }
      ],
      "source": [
        "import os\n",
        "from pathlib import Path\n",
        "import numpy as np\n",
        "import pandas as pd\n",
        "import warnings\n",
        "import sklearn\n",
        "import pickle\n",
        "import xgboost as xgb\n",
        "import matplotlib.pyplot as plt\n",
        "import seaborn as sns\n",
        "from scipy.stats import chi2_contingency\n",
        "from sklearn.model_selection import train_test_split\n",
        "from sklearn.metrics import r2_score\n",
        "import missingno as mn\n",
        "from sklearn.ensemble import IsolationForest,RandomForestRegressor\n",
        "\n",
        "\n",
        "\n",
        "from sklearn.pipeline import(\n",
        "  Pipeline,FeatureUnion)\n",
        "from sklearn.compose import ColumnTransformer\n",
        "from sklearn.impute import(\n",
        "    SimpleImputer\n",
        ")\n",
        "\n",
        "from sklearn.preprocessing import(\n",
        "    OneHotEncoder,\n",
        "    OrdinalEncoder,\n",
        "    MinMaxScaler,\n",
        "    FunctionTransformer,\n",
        "    PowerTransformer,\n",
        "    StandardScaler\n",
        "\n",
        ")\n",
        "from feature_engine.encoding import RareLabelEncoder\n",
        "from feature_engine.datetime import DatetimeFeatures\n",
        "from sklearn.metrics.pairwise import rbf_kernel\n",
        "from feature_engine.outliers import Winsorizer\n",
        "from feature_engine.selection import SelectBySingleFeaturePerformance\n",
        "\n",
        "\n",
        "import sagemaker\n",
        "from sagemaker.estimator import Estimator\n",
        "from sagemaker.inputs import TrainingInput\n",
        "from sagemaker.tuner import (\n",
        "    IntegerParameter,\n",
        "    ContinuousParameter,\n",
        "    HyperparameterTuner\n",
        ")"
      ]
    },
    {
      "cell_type": "markdown",
      "id": "b12207fb",
      "metadata": {
        "id": "b12207fb"
      },
      "source": [
        "## 2. Display Settings"
      ]
    },
    {
      "cell_type": "code",
      "execution_count": null,
      "id": "83c2cfda",
      "metadata": {
        "id": "83c2cfda"
      },
      "outputs": [],
      "source": [
        "pd.set_option(\"display.max_columns\", None)"
      ]
    },
    {
      "cell_type": "code",
      "execution_count": null,
      "id": "7588a197",
      "metadata": {
        "id": "7588a197"
      },
      "outputs": [],
      "source": [
        "sklearn.set_config(transform_output=\"pandas\")"
      ]
    },
    {
      "cell_type": "code",
      "execution_count": null,
      "id": "afa4582f",
      "metadata": {
        "id": "afa4582f"
      },
      "outputs": [],
      "source": [
        "warnings.filterwarnings(\"ignore\")"
      ]
    },
    {
      "cell_type": "markdown",
      "id": "060b8c5c",
      "metadata": {
        "id": "060b8c5c"
      },
      "source": [
        "## 3. Read Datasets"
      ]
    },
    {
      "cell_type": "code",
      "execution_count": null,
      "id": "9def5baa",
      "metadata": {
        "id": "9def5baa",
        "outputId": "ef0d9885-ade0-4a65-a462-093de3ea357d"
      },
      "outputs": [
        {
          "data": {
            "text/html": [
              "<div>\n",
              "<style scoped>\n",
              "    .dataframe tbody tr th:only-of-type {\n",
              "        vertical-align: middle;\n",
              "    }\n",
              "\n",
              "    .dataframe tbody tr th {\n",
              "        vertical-align: top;\n",
              "    }\n",
              "\n",
              "    .dataframe thead th {\n",
              "        text-align: right;\n",
              "    }\n",
              "</style>\n",
              "<table border=\"1\" class=\"dataframe\">\n",
              "  <thead>\n",
              "    <tr style=\"text-align: right;\">\n",
              "      <th></th>\n",
              "      <th>airline</th>\n",
              "      <th>date_of_journey</th>\n",
              "      <th>source</th>\n",
              "      <th>destination</th>\n",
              "      <th>dep_time</th>\n",
              "      <th>arrival_time</th>\n",
              "      <th>duration</th>\n",
              "      <th>total_stops</th>\n",
              "      <th>additional_info</th>\n",
              "      <th>price</th>\n",
              "    </tr>\n",
              "  </thead>\n",
              "  <tbody>\n",
              "    <tr>\n",
              "      <th>0</th>\n",
              "      <td>Jet Airways</td>\n",
              "      <td>2019-06-21</td>\n",
              "      <td>Mumbai</td>\n",
              "      <td>Hyderabad</td>\n",
              "      <td>10:20:00</td>\n",
              "      <td>11:50:00</td>\n",
              "      <td>90</td>\n",
              "      <td>0.0</td>\n",
              "      <td>In-flight meal not included</td>\n",
              "      <td>4995</td>\n",
              "    </tr>\n",
              "    <tr>\n",
              "      <th>1</th>\n",
              "      <td>Air India</td>\n",
              "      <td>2019-05-18</td>\n",
              "      <td>Delhi</td>\n",
              "      <td>Cochin</td>\n",
              "      <td>09:00:00</td>\n",
              "      <td>07:40:00</td>\n",
              "      <td>1360</td>\n",
              "      <td>1.0</td>\n",
              "      <td>No Info</td>\n",
              "      <td>8372</td>\n",
              "    </tr>\n",
              "    <tr>\n",
              "      <th>2</th>\n",
              "      <td>Air India</td>\n",
              "      <td>2019-06-12</td>\n",
              "      <td>Kolkata</td>\n",
              "      <td>Banglore</td>\n",
              "      <td>09:10:00</td>\n",
              "      <td>11:05:00</td>\n",
              "      <td>1555</td>\n",
              "      <td>2.0</td>\n",
              "      <td>No Info</td>\n",
              "      <td>6117</td>\n",
              "    </tr>\n",
              "    <tr>\n",
              "      <th>3</th>\n",
              "      <td>Vistara</td>\n",
              "      <td>2019-04-01</td>\n",
              "      <td>Kolkata</td>\n",
              "      <td>Banglore</td>\n",
              "      <td>20:20:00</td>\n",
              "      <td>22:55:00</td>\n",
              "      <td>1595</td>\n",
              "      <td>1.0</td>\n",
              "      <td>No Info</td>\n",
              "      <td>7770</td>\n",
              "    </tr>\n",
              "    <tr>\n",
              "      <th>4</th>\n",
              "      <td>Vistara</td>\n",
              "      <td>2019-06-06</td>\n",
              "      <td>Kolkata</td>\n",
              "      <td>Banglore</td>\n",
              "      <td>17:00:00</td>\n",
              "      <td>10:45:00</td>\n",
              "      <td>1065</td>\n",
              "      <td>1.0</td>\n",
              "      <td>No Info</td>\n",
              "      <td>9187</td>\n",
              "    </tr>\n",
              "    <tr>\n",
              "      <th>...</th>\n",
              "      <td>...</td>\n",
              "      <td>...</td>\n",
              "      <td>...</td>\n",
              "      <td>...</td>\n",
              "      <td>...</td>\n",
              "      <td>...</td>\n",
              "      <td>...</td>\n",
              "      <td>...</td>\n",
              "      <td>...</td>\n",
              "      <td>...</td>\n",
              "    </tr>\n",
              "    <tr>\n",
              "      <th>635</th>\n",
              "      <td>Air Asia</td>\n",
              "      <td>2019-04-12</td>\n",
              "      <td>Banglore</td>\n",
              "      <td>Delhi</td>\n",
              "      <td>04:55:00</td>\n",
              "      <td>07:45:00</td>\n",
              "      <td>170</td>\n",
              "      <td>0.0</td>\n",
              "      <td>No Info</td>\n",
              "      <td>4282</td>\n",
              "    </tr>\n",
              "    <tr>\n",
              "      <th>636</th>\n",
              "      <td>Jet Airways</td>\n",
              "      <td>2019-05-09</td>\n",
              "      <td>Kolkata</td>\n",
              "      <td>Banglore</td>\n",
              "      <td>09:35:00</td>\n",
              "      <td>21:05:00</td>\n",
              "      <td>690</td>\n",
              "      <td>1.0</td>\n",
              "      <td>No Info</td>\n",
              "      <td>13067</td>\n",
              "    </tr>\n",
              "    <tr>\n",
              "      <th>637</th>\n",
              "      <td>Indigo</td>\n",
              "      <td>2019-05-15</td>\n",
              "      <td>Banglore</td>\n",
              "      <td>Delhi</td>\n",
              "      <td>06:05:00</td>\n",
              "      <td>08:50:00</td>\n",
              "      <td>165</td>\n",
              "      <td>0.0</td>\n",
              "      <td>No Info</td>\n",
              "      <td>4423</td>\n",
              "    </tr>\n",
              "    <tr>\n",
              "      <th>638</th>\n",
              "      <td>Multiple Carriers</td>\n",
              "      <td>2019-05-15</td>\n",
              "      <td>Delhi</td>\n",
              "      <td>Cochin</td>\n",
              "      <td>08:45:00</td>\n",
              "      <td>21:00:00</td>\n",
              "      <td>735</td>\n",
              "      <td>1.0</td>\n",
              "      <td>No Info</td>\n",
              "      <td>7670</td>\n",
              "    </tr>\n",
              "    <tr>\n",
              "      <th>639</th>\n",
              "      <td>Jet Airways</td>\n",
              "      <td>2019-05-21</td>\n",
              "      <td>Kolkata</td>\n",
              "      <td>Banglore</td>\n",
              "      <td>20:00:00</td>\n",
              "      <td>12:00:00</td>\n",
              "      <td>960</td>\n",
              "      <td>1.0</td>\n",
              "      <td>In-flight meal not included</td>\n",
              "      <td>10844</td>\n",
              "    </tr>\n",
              "  </tbody>\n",
              "</table>\n",
              "<p>640 rows × 10 columns</p>\n",
              "</div>"
            ],
            "text/plain": [
              "               airline date_of_journey    source destination  dep_time  \\\n",
              "0          Jet Airways      2019-06-21    Mumbai   Hyderabad  10:20:00   \n",
              "1            Air India      2019-05-18     Delhi      Cochin  09:00:00   \n",
              "2            Air India      2019-06-12   Kolkata    Banglore  09:10:00   \n",
              "3              Vistara      2019-04-01   Kolkata    Banglore  20:20:00   \n",
              "4              Vistara      2019-06-06   Kolkata    Banglore  17:00:00   \n",
              "..                 ...             ...       ...         ...       ...   \n",
              "635           Air Asia      2019-04-12  Banglore       Delhi  04:55:00   \n",
              "636        Jet Airways      2019-05-09   Kolkata    Banglore  09:35:00   \n",
              "637             Indigo      2019-05-15  Banglore       Delhi  06:05:00   \n",
              "638  Multiple Carriers      2019-05-15     Delhi      Cochin  08:45:00   \n",
              "639        Jet Airways      2019-05-21   Kolkata    Banglore  20:00:00   \n",
              "\n",
              "    arrival_time  duration  total_stops              additional_info  price  \n",
              "0       11:50:00        90          0.0  In-flight meal not included   4995  \n",
              "1       07:40:00      1360          1.0                      No Info   8372  \n",
              "2       11:05:00      1555          2.0                      No Info   6117  \n",
              "3       22:55:00      1595          1.0                      No Info   7770  \n",
              "4       10:45:00      1065          1.0                      No Info   9187  \n",
              "..           ...       ...          ...                          ...    ...  \n",
              "635     07:45:00       170          0.0                      No Info   4282  \n",
              "636     21:05:00       690          1.0                      No Info  13067  \n",
              "637     08:50:00       165          0.0                      No Info   4423  \n",
              "638     21:00:00       735          1.0                      No Info   7670  \n",
              "639     12:00:00       960          1.0  In-flight meal not included  10844  \n",
              "\n",
              "[640 rows x 10 columns]"
            ]
          },
          "execution_count": 7,
          "metadata": {},
          "output_type": "execute_result"
        }
      ],
      "source": [
        "train = pd.read_csv(\"train.csv\")\n",
        "train"
      ]
    },
    {
      "cell_type": "code",
      "execution_count": null,
      "id": "1269127c",
      "metadata": {
        "id": "1269127c",
        "outputId": "d3a70579-4cdc-4627-e3a5-a8cd8f306d89"
      },
      "outputs": [
        {
          "data": {
            "text/html": [
              "<div>\n",
              "<style scoped>\n",
              "    .dataframe tbody tr th:only-of-type {\n",
              "        vertical-align: middle;\n",
              "    }\n",
              "\n",
              "    .dataframe tbody tr th {\n",
              "        vertical-align: top;\n",
              "    }\n",
              "\n",
              "    .dataframe thead th {\n",
              "        text-align: right;\n",
              "    }\n",
              "</style>\n",
              "<table border=\"1\" class=\"dataframe\">\n",
              "  <thead>\n",
              "    <tr style=\"text-align: right;\">\n",
              "      <th></th>\n",
              "      <th>airline</th>\n",
              "      <th>date_of_journey</th>\n",
              "      <th>source</th>\n",
              "      <th>destination</th>\n",
              "      <th>dep_time</th>\n",
              "      <th>arrival_time</th>\n",
              "      <th>duration</th>\n",
              "      <th>total_stops</th>\n",
              "      <th>additional_info</th>\n",
              "      <th>price</th>\n",
              "    </tr>\n",
              "  </thead>\n",
              "  <tbody>\n",
              "    <tr>\n",
              "      <th>0</th>\n",
              "      <td>Air India</td>\n",
              "      <td>2019-06-01</td>\n",
              "      <td>Delhi</td>\n",
              "      <td>Cochin</td>\n",
              "      <td>05:15:00</td>\n",
              "      <td>19:15:00</td>\n",
              "      <td>2280</td>\n",
              "      <td>3.0</td>\n",
              "      <td>No Info</td>\n",
              "      <td>10703</td>\n",
              "    </tr>\n",
              "    <tr>\n",
              "      <th>1</th>\n",
              "      <td>Air India</td>\n",
              "      <td>2019-03-03</td>\n",
              "      <td>Delhi</td>\n",
              "      <td>Cochin</td>\n",
              "      <td>20:00:00</td>\n",
              "      <td>19:15:00</td>\n",
              "      <td>1395</td>\n",
              "      <td>2.0</td>\n",
              "      <td>No Info</td>\n",
              "      <td>17266</td>\n",
              "    </tr>\n",
              "    <tr>\n",
              "      <th>2</th>\n",
              "      <td>Air India</td>\n",
              "      <td>2019-03-06</td>\n",
              "      <td>Mumbai</td>\n",
              "      <td>Hyderabad</td>\n",
              "      <td>05:55:00</td>\n",
              "      <td>22:00:00</td>\n",
              "      <td>965</td>\n",
              "      <td>1.0</td>\n",
              "      <td>No Info</td>\n",
              "      <td>10366</td>\n",
              "    </tr>\n",
              "    <tr>\n",
              "      <th>3</th>\n",
              "      <td>Goair</td>\n",
              "      <td>2019-06-09</td>\n",
              "      <td>Kolkata</td>\n",
              "      <td>Banglore</td>\n",
              "      <td>16:40:00</td>\n",
              "      <td>00:15:00</td>\n",
              "      <td>455</td>\n",
              "      <td>1.0</td>\n",
              "      <td>No Info</td>\n",
              "      <td>9495</td>\n",
              "    </tr>\n",
              "    <tr>\n",
              "      <th>4</th>\n",
              "      <td>Jet Airways</td>\n",
              "      <td>2019-06-03</td>\n",
              "      <td>Delhi</td>\n",
              "      <td>Cochin</td>\n",
              "      <td>20:55:00</td>\n",
              "      <td>19:00:00</td>\n",
              "      <td>1325</td>\n",
              "      <td>1.0</td>\n",
              "      <td>No Info</td>\n",
              "      <td>14714</td>\n",
              "    </tr>\n",
              "    <tr>\n",
              "      <th>...</th>\n",
              "      <td>...</td>\n",
              "      <td>...</td>\n",
              "      <td>...</td>\n",
              "      <td>...</td>\n",
              "      <td>...</td>\n",
              "      <td>...</td>\n",
              "      <td>...</td>\n",
              "      <td>...</td>\n",
              "      <td>...</td>\n",
              "      <td>...</td>\n",
              "    </tr>\n",
              "    <tr>\n",
              "      <th>155</th>\n",
              "      <td>Spicejet</td>\n",
              "      <td>2019-04-03</td>\n",
              "      <td>Delhi</td>\n",
              "      <td>Cochin</td>\n",
              "      <td>08:45:00</td>\n",
              "      <td>13:15:00</td>\n",
              "      <td>270</td>\n",
              "      <td>1.0</td>\n",
              "      <td>No check-in baggage included</td>\n",
              "      <td>4098</td>\n",
              "    </tr>\n",
              "    <tr>\n",
              "      <th>156</th>\n",
              "      <td>Spicejet</td>\n",
              "      <td>2019-03-01</td>\n",
              "      <td>Mumbai</td>\n",
              "      <td>Hyderabad</td>\n",
              "      <td>05:45:00</td>\n",
              "      <td>07:05:00</td>\n",
              "      <td>80</td>\n",
              "      <td>0.0</td>\n",
              "      <td>No Info</td>\n",
              "      <td>12475</td>\n",
              "    </tr>\n",
              "    <tr>\n",
              "      <th>157</th>\n",
              "      <td>Multiple Carriers</td>\n",
              "      <td>2019-05-18</td>\n",
              "      <td>Delhi</td>\n",
              "      <td>Cochin</td>\n",
              "      <td>03:50:00</td>\n",
              "      <td>12:35:00</td>\n",
              "      <td>525</td>\n",
              "      <td>1.0</td>\n",
              "      <td>No Info</td>\n",
              "      <td>10197</td>\n",
              "    </tr>\n",
              "    <tr>\n",
              "      <th>158</th>\n",
              "      <td>Jet Airways</td>\n",
              "      <td>2019-03-01</td>\n",
              "      <td>Banglore</td>\n",
              "      <td>New Delhi</td>\n",
              "      <td>22:50:00</td>\n",
              "      <td>00:45:00</td>\n",
              "      <td>1555</td>\n",
              "      <td>1.0</td>\n",
              "      <td>No Info</td>\n",
              "      <td>26890</td>\n",
              "    </tr>\n",
              "    <tr>\n",
              "      <th>159</th>\n",
              "      <td>Indigo</td>\n",
              "      <td>2019-04-18</td>\n",
              "      <td>Banglore</td>\n",
              "      <td>Delhi</td>\n",
              "      <td>18:25:00</td>\n",
              "      <td>21:20:00</td>\n",
              "      <td>175</td>\n",
              "      <td>0.0</td>\n",
              "      <td>No Info</td>\n",
              "      <td>4990</td>\n",
              "    </tr>\n",
              "  </tbody>\n",
              "</table>\n",
              "<p>160 rows × 10 columns</p>\n",
              "</div>"
            ],
            "text/plain": [
              "               airline date_of_journey    source destination  dep_time  \\\n",
              "0            Air India      2019-06-01     Delhi      Cochin  05:15:00   \n",
              "1            Air India      2019-03-03     Delhi      Cochin  20:00:00   \n",
              "2            Air India      2019-03-06    Mumbai   Hyderabad  05:55:00   \n",
              "3                Goair      2019-06-09   Kolkata    Banglore  16:40:00   \n",
              "4          Jet Airways      2019-06-03     Delhi      Cochin  20:55:00   \n",
              "..                 ...             ...       ...         ...       ...   \n",
              "155           Spicejet      2019-04-03     Delhi      Cochin  08:45:00   \n",
              "156           Spicejet      2019-03-01    Mumbai   Hyderabad  05:45:00   \n",
              "157  Multiple Carriers      2019-05-18     Delhi      Cochin  03:50:00   \n",
              "158        Jet Airways      2019-03-01  Banglore   New Delhi  22:50:00   \n",
              "159             Indigo      2019-04-18  Banglore       Delhi  18:25:00   \n",
              "\n",
              "    arrival_time  duration  total_stops               additional_info  price  \n",
              "0       19:15:00      2280          3.0                       No Info  10703  \n",
              "1       19:15:00      1395          2.0                       No Info  17266  \n",
              "2       22:00:00       965          1.0                       No Info  10366  \n",
              "3       00:15:00       455          1.0                       No Info   9495  \n",
              "4       19:00:00      1325          1.0                       No Info  14714  \n",
              "..           ...       ...          ...                           ...    ...  \n",
              "155     13:15:00       270          1.0  No check-in baggage included   4098  \n",
              "156     07:05:00        80          0.0                       No Info  12475  \n",
              "157     12:35:00       525          1.0                       No Info  10197  \n",
              "158     00:45:00      1555          1.0                       No Info  26890  \n",
              "159     21:20:00       175          0.0                       No Info   4990  \n",
              "\n",
              "[160 rows x 10 columns]"
            ]
          },
          "execution_count": 8,
          "metadata": {},
          "output_type": "execute_result"
        }
      ],
      "source": [
        "val = pd.read_csv(\"val.csv\")\n",
        "val"
      ]
    },
    {
      "cell_type": "code",
      "execution_count": null,
      "id": "37a92f45",
      "metadata": {
        "id": "37a92f45",
        "outputId": "f4ef12ed-6b61-4084-a725-08668f91ae6b"
      },
      "outputs": [
        {
          "data": {
            "text/html": [
              "<div>\n",
              "<style scoped>\n",
              "    .dataframe tbody tr th:only-of-type {\n",
              "        vertical-align: middle;\n",
              "    }\n",
              "\n",
              "    .dataframe tbody tr th {\n",
              "        vertical-align: top;\n",
              "    }\n",
              "\n",
              "    .dataframe thead th {\n",
              "        text-align: right;\n",
              "    }\n",
              "</style>\n",
              "<table border=\"1\" class=\"dataframe\">\n",
              "  <thead>\n",
              "    <tr style=\"text-align: right;\">\n",
              "      <th></th>\n",
              "      <th>airline</th>\n",
              "      <th>date_of_journey</th>\n",
              "      <th>source</th>\n",
              "      <th>destination</th>\n",
              "      <th>dep_time</th>\n",
              "      <th>arrival_time</th>\n",
              "      <th>duration</th>\n",
              "      <th>total_stops</th>\n",
              "      <th>additional_info</th>\n",
              "      <th>price</th>\n",
              "    </tr>\n",
              "  </thead>\n",
              "  <tbody>\n",
              "    <tr>\n",
              "      <th>0</th>\n",
              "      <td>Multiple Carriers</td>\n",
              "      <td>2019-03-03</td>\n",
              "      <td>Delhi</td>\n",
              "      <td>Cochin</td>\n",
              "      <td>18:15:00</td>\n",
              "      <td>01:35:00</td>\n",
              "      <td>440</td>\n",
              "      <td>1.0</td>\n",
              "      <td>No Info</td>\n",
              "      <td>18916</td>\n",
              "    </tr>\n",
              "    <tr>\n",
              "      <th>1</th>\n",
              "      <td>Jet Airways</td>\n",
              "      <td>2019-06-01</td>\n",
              "      <td>Delhi</td>\n",
              "      <td>Cochin</td>\n",
              "      <td>20:55:00</td>\n",
              "      <td>12:35:00</td>\n",
              "      <td>940</td>\n",
              "      <td>1.0</td>\n",
              "      <td>In-flight meal not included</td>\n",
              "      <td>10262</td>\n",
              "    </tr>\n",
              "    <tr>\n",
              "      <th>2</th>\n",
              "      <td>Multiple Carriers</td>\n",
              "      <td>2019-06-06</td>\n",
              "      <td>Delhi</td>\n",
              "      <td>Cochin</td>\n",
              "      <td>07:05:00</td>\n",
              "      <td>16:10:00</td>\n",
              "      <td>545</td>\n",
              "      <td>1.0</td>\n",
              "      <td>No Info</td>\n",
              "      <td>9646</td>\n",
              "    </tr>\n",
              "    <tr>\n",
              "      <th>3</th>\n",
              "      <td>Air India</td>\n",
              "      <td>2019-03-24</td>\n",
              "      <td>Kolkata</td>\n",
              "      <td>Banglore</td>\n",
              "      <td>16:50:00</td>\n",
              "      <td>18:30:00</td>\n",
              "      <td>1540</td>\n",
              "      <td>1.0</td>\n",
              "      <td>No Info</td>\n",
              "      <td>14641</td>\n",
              "    </tr>\n",
              "    <tr>\n",
              "      <th>4</th>\n",
              "      <td>Multiple Carriers</td>\n",
              "      <td>2019-05-27</td>\n",
              "      <td>Delhi</td>\n",
              "      <td>Cochin</td>\n",
              "      <td>10:20:00</td>\n",
              "      <td>19:00:00</td>\n",
              "      <td>520</td>\n",
              "      <td>1.0</td>\n",
              "      <td>No Info</td>\n",
              "      <td>9794</td>\n",
              "    </tr>\n",
              "    <tr>\n",
              "      <th>...</th>\n",
              "      <td>...</td>\n",
              "      <td>...</td>\n",
              "      <td>...</td>\n",
              "      <td>...</td>\n",
              "      <td>...</td>\n",
              "      <td>...</td>\n",
              "      <td>...</td>\n",
              "      <td>...</td>\n",
              "      <td>...</td>\n",
              "      <td>...</td>\n",
              "    </tr>\n",
              "    <tr>\n",
              "      <th>195</th>\n",
              "      <td>Spicejet</td>\n",
              "      <td>2019-04-21</td>\n",
              "      <td>Kolkata</td>\n",
              "      <td>Banglore</td>\n",
              "      <td>06:55:00</td>\n",
              "      <td>09:30:00</td>\n",
              "      <td>155</td>\n",
              "      <td>0.0</td>\n",
              "      <td>No Info</td>\n",
              "      <td>4174</td>\n",
              "    </tr>\n",
              "    <tr>\n",
              "      <th>196</th>\n",
              "      <td>Multiple Carriers</td>\n",
              "      <td>2019-06-01</td>\n",
              "      <td>Delhi</td>\n",
              "      <td>Cochin</td>\n",
              "      <td>11:40:00</td>\n",
              "      <td>19:15:00</td>\n",
              "      <td>455</td>\n",
              "      <td>1.0</td>\n",
              "      <td>No Info</td>\n",
              "      <td>10261</td>\n",
              "    </tr>\n",
              "    <tr>\n",
              "      <th>197</th>\n",
              "      <td>Indigo</td>\n",
              "      <td>2019-03-21</td>\n",
              "      <td>Mumbai</td>\n",
              "      <td>Hyderabad</td>\n",
              "      <td>21:20:00</td>\n",
              "      <td>22:45:00</td>\n",
              "      <td>85</td>\n",
              "      <td>0.0</td>\n",
              "      <td>No Info</td>\n",
              "      <td>2227</td>\n",
              "    </tr>\n",
              "    <tr>\n",
              "      <th>198</th>\n",
              "      <td>Jet Airways</td>\n",
              "      <td>2019-06-03</td>\n",
              "      <td>Delhi</td>\n",
              "      <td>Cochin</td>\n",
              "      <td>16:00:00</td>\n",
              "      <td>12:35:00</td>\n",
              "      <td>1235</td>\n",
              "      <td>1.0</td>\n",
              "      <td>In-flight meal not included</td>\n",
              "      <td>10262</td>\n",
              "    </tr>\n",
              "    <tr>\n",
              "      <th>199</th>\n",
              "      <td>Indigo</td>\n",
              "      <td>2019-03-15</td>\n",
              "      <td>Mumbai</td>\n",
              "      <td>Hyderabad</td>\n",
              "      <td>09:10:00</td>\n",
              "      <td>10:40:00</td>\n",
              "      <td>90</td>\n",
              "      <td>0.0</td>\n",
              "      <td>No Info</td>\n",
              "      <td>4049</td>\n",
              "    </tr>\n",
              "  </tbody>\n",
              "</table>\n",
              "<p>200 rows × 10 columns</p>\n",
              "</div>"
            ],
            "text/plain": [
              "               airline date_of_journey   source destination  dep_time  \\\n",
              "0    Multiple Carriers      2019-03-03    Delhi      Cochin  18:15:00   \n",
              "1          Jet Airways      2019-06-01    Delhi      Cochin  20:55:00   \n",
              "2    Multiple Carriers      2019-06-06    Delhi      Cochin  07:05:00   \n",
              "3            Air India      2019-03-24  Kolkata    Banglore  16:50:00   \n",
              "4    Multiple Carriers      2019-05-27    Delhi      Cochin  10:20:00   \n",
              "..                 ...             ...      ...         ...       ...   \n",
              "195           Spicejet      2019-04-21  Kolkata    Banglore  06:55:00   \n",
              "196  Multiple Carriers      2019-06-01    Delhi      Cochin  11:40:00   \n",
              "197             Indigo      2019-03-21   Mumbai   Hyderabad  21:20:00   \n",
              "198        Jet Airways      2019-06-03    Delhi      Cochin  16:00:00   \n",
              "199             Indigo      2019-03-15   Mumbai   Hyderabad  09:10:00   \n",
              "\n",
              "    arrival_time  duration  total_stops              additional_info  price  \n",
              "0       01:35:00       440          1.0                      No Info  18916  \n",
              "1       12:35:00       940          1.0  In-flight meal not included  10262  \n",
              "2       16:10:00       545          1.0                      No Info   9646  \n",
              "3       18:30:00      1540          1.0                      No Info  14641  \n",
              "4       19:00:00       520          1.0                      No Info   9794  \n",
              "..           ...       ...          ...                          ...    ...  \n",
              "195     09:30:00       155          0.0                      No Info   4174  \n",
              "196     19:15:00       455          1.0                      No Info  10261  \n",
              "197     22:45:00        85          0.0                      No Info   2227  \n",
              "198     12:35:00      1235          1.0  In-flight meal not included  10262  \n",
              "199     10:40:00        90          0.0                      No Info   4049  \n",
              "\n",
              "[200 rows x 10 columns]"
            ]
          },
          "execution_count": 9,
          "metadata": {},
          "output_type": "execute_result"
        }
      ],
      "source": [
        "test = pd.read_csv(\"test.csv\")\n",
        "test"
      ]
    },
    {
      "cell_type": "markdown",
      "id": "e07cf0c7",
      "metadata": {
        "id": "e07cf0c7"
      },
      "source": [
        "## 4. Preprocessing Operations"
      ]
    },
    {
      "cell_type": "code",
      "execution_count": null,
      "id": "a5ae99dc",
      "metadata": {
        "id": "a5ae99dc"
      },
      "outputs": [],
      "source": [
        "# airline\n",
        "airline_pipe=Pipeline(steps=[\n",
        "    (\"imputer\",SimpleImputer(strategy=\"most_frequent\")),\n",
        "    (\"rarelabelencoder\",RareLabelEncoder(tol=0.1,n_categories=2,replace_with=\"Other\")),\n",
        "    (\"onehotencoder\",OneHotEncoder(sparse_output=False))\n",
        "\n",
        "]\n",
        ")\n",
        "\n",
        "#doj\n",
        "def missing_dt(x):\n",
        "  return x.fillna(method=\"ffill\").astype('datetime64[ns]')\n",
        "\n",
        "extract_features=[\"month\",\"weekend\",\"day_of_month\"]\n",
        "doj_pipe=Pipeline(steps=[\n",
        "    (\"imputer\",FunctionTransformer(func=missing_dt)),\n",
        "    (\"datetime\",DatetimeFeatures(features_to_extract=extract_features,yearfirst=True,format=\"%Y-%m-%d\")),\n",
        "    (\"scaler\",MinMaxScaler())\n",
        "])\n",
        "\n",
        "\n",
        "# source & destination\n",
        "#1st Transformation\n",
        "location_pipe1=Pipeline(steps=[\n",
        "         (\"rarelabelencoder\",RareLabelEncoder(tol=0.1,n_categories=2,replace_with=\"Other\")),\n",
        "         (\"onehotencoder\",OneHotEncoder(sparse_output=False))\n",
        "                              ])\n",
        "\n",
        "#2nd Transformation\n",
        "def location_feature(x):\n",
        "  columns=x.columns.tolist()\n",
        "  north=[\"Delhi\",\"Kolkata\",\"Mumbai\"]\n",
        "\n",
        "  return (\n",
        "    x\n",
        "    .assign(**{\n",
        "        f\"{col}_is_north\": x[col].isin(north).astype(int)\n",
        "        for col in columns}\n",
        "    )\n",
        "    .drop(columns=columns)\n",
        "  )\n",
        "\n",
        "\n",
        "location_union=FeatureUnion(transformer_list=[\n",
        "    (\"pipe1\",location_pipe1),\n",
        "    (\"pipe2\",FunctionTransformer(func=location_feature))\n",
        "])\n",
        "\n",
        "\n",
        "location_transformer=Pipeline([\n",
        "    (\"imputer\",SimpleImputer(strategy=\"most_frequent\")),\n",
        "    (\"union\",location_union)\n",
        "])\n",
        "\n",
        "# dep_time & arrival_time\n",
        "time_features=[\"hour\",\"minute\"]\n",
        "time_pipe1=Pipeline(steps=[\n",
        "    (\"datetime\",DatetimeFeatures(features_to_extract=time_features,yearfirst=True,format='mixed')),\n",
        "    (\"scaler\",MinMaxScaler())\n",
        "])\n",
        "\n",
        "def time_feature(x):\n",
        "  columns=x.columns.tolist()\n",
        "\n",
        "  return (\n",
        "      x\n",
        "      .assign(**{\n",
        "          f\"{col}_part_of_day\":np.select([x[col].dt.hour.between(4,12,inclusive=\"left\"),\n",
        "          x[col].dt.hour.between(12,16,inclusive=\"left\"),\n",
        "          x[col].dt.hour.between(16,19,inclusive=\"left\")],[\"Morning\",\"Afternoon\",\"Evening\"],default=\"Night\")\n",
        "          for col in columns\n",
        "      })\n",
        "      .drop(columns=columns)\n",
        "  )\n",
        "\n",
        "time_pipe2=Pipeline(steps=[\n",
        "    (\"feature\",FunctionTransformer(func=time_feature)),\n",
        "    (\"onehotencoder\",OneHotEncoder(sparse_output=False,handle_unknown=\"ignore\"))\n",
        "\n",
        "])\n",
        "\n",
        "time_union=FeatureUnion(transformer_list=[\n",
        "     (\"pipe1\",time_pipe1),\n",
        "    (\"pipe2\",time_pipe2)\n",
        "\n",
        "])\n",
        "\n",
        "time_transformer=Pipeline(steps=[\n",
        "    (\"imputer\",FunctionTransformer(func=missing_dt)),\n",
        "    (\"union\",time_union)\n",
        "])\n",
        "\n",
        "# duration\n",
        "def duration_feature1(x):\n",
        "  columns=x.columns.tolist()\n",
        "  return (\n",
        "      x\n",
        "      .assign(**{\n",
        "          f\"{col}_range\":np.select([x[col].between(75,300,inclusive=\"left\"),\n",
        "            x[col].between(300,800,inclusive=\"left\")],[\"Short\",\"Medium\"],default=\"Long\")\n",
        "          for col in columns\n",
        "      }\n",
        "\n",
        "      )\n",
        "      .drop(columns=columns)\n",
        "  )\n",
        "\n",
        "\n",
        "duration_pipe1=Pipeline(steps=[\n",
        "    (\"feature1\",FunctionTransformer(func=duration_feature1)),\n",
        "    (\"ordinalencoder\",OrdinalEncoder())\n",
        "])\n",
        "\n",
        "\n",
        "def duration_feature2(df):\n",
        "  columns=df.columns.tolist()\n",
        "  quantiles=[0.25,0.5,0.75]\n",
        "  reference={\n",
        "      col:\n",
        "      (df[col]\n",
        "       .quantile(quantiles)\n",
        "       .values.reshape(-1,1))\n",
        "      for col in columns\n",
        "  }\n",
        "\n",
        "  obj=[]\n",
        "  for var in reference:\n",
        "    col=[f\"{var}_{int(q*100)}th\" for q in quantiles]\n",
        "    data=pd.DataFrame(rbf_kernel(X=df[[var]],Y=reference[var]),columns=col,index=df.index)\n",
        "    obj.append(data)\n",
        "\n",
        "  return pd.concat(obj,axis=1)\n",
        "\n",
        "duration_pipe2=Pipeline(steps=[\n",
        "    (\"feature2\",FunctionTransformer(duration_feature2)),\n",
        "    (\"powertransformer\",PowerTransformer(standardize=True))\n",
        "])\n",
        "\n",
        "\n",
        "\n",
        "duration_union=FeatureUnion(transformer_list=[\n",
        "    (\"pipe1\",duration_pipe1),\n",
        "    (\"pipe2\",duration_pipe2),\n",
        "    (\"scaler\",StandardScaler())\n",
        "])\n",
        "\n",
        "\n",
        "duration_transformer=Pipeline(steps=[\n",
        "    (\"outlier\",Winsorizer(capping_method=\"iqr\",fold=1.5)),\n",
        "    (\"uniont\",duration_union),\n",
        "    (\"imputer\",SimpleImputer(strategy=\"median\"))\n",
        "\n",
        "])\n",
        "\n",
        "# total_stops\n",
        "stops_pipe=Pipeline(steps=[\n",
        "    (\"rarelabelencoder\",RareLabelEncoder(tol=0.1,replace_with=\"3\",n_categories=2))\n",
        "\n",
        "])\n",
        "\n",
        "def stops_feature(x):\n",
        "  columns=x.columns.tolist()\n",
        "\n",
        "  return(\n",
        "    x\n",
        "    .assign(**{\n",
        "        \"is_direct_flight\":x[col].isin([\"1\"]).astype(int)\n",
        "        for col in columns\n",
        "        })\n",
        "    .drop(columns,axis=1)\n",
        "  )\n",
        "\n",
        "\n",
        "def num_datatype(x):\n",
        "  columns=x.columns.tolist()\n",
        "\n",
        "  return(\n",
        "      x.assign(**{\n",
        "          col:x[col].astype(\"int\")\n",
        "          for col in columns\n",
        "      }\n",
        "\n",
        "      )\n",
        "  )\n",
        "\n",
        "\n",
        "stops_union=FeatureUnion(transformer_list=[\n",
        "    (\"pipe1\",stops_pipe),\n",
        "    (\"pipe2\",FunctionTransformer(func=stops_feature))\n",
        "]\n",
        ")\n",
        "\n",
        "stops_transformer=Pipeline(steps=[\n",
        "    (\"imputer\",SimpleImputer(strategy=\"most_frequent\")),\n",
        "    (\"union\",stops_union),\n",
        "    (\"dtype\",FunctionTransformer(func=num_datatype))\n",
        "\n",
        "])\n",
        "\n",
        "# additional_info\n",
        "info_pipe1=Pipeline(steps=[\n",
        "    (\"rarelabelencoder\",RareLabelEncoder(tol=0.1,replace_with=\"Other\",n_categories=2)),\n",
        "    (\"onehotencoder\",OneHotEncoder(sparse_output=False,handle_unknown=\"ignore\"))\n",
        "])\n",
        "\n",
        "\n",
        "def info_feature(x):\n",
        "  columns=x.columns.tolist()\n",
        "\n",
        "\n",
        "  return(\n",
        "      x\n",
        "      .assign(**{\n",
        "          \"have_info\":(~x[col].isin([\"No Info\"])).astype(int)\n",
        "          for col in columns\n",
        "      }\n",
        "      )\n",
        "      .drop(columns,axis=1)\n",
        "  )\n",
        "\n",
        "\n",
        "info_union=FeatureUnion(transformer_list=[\n",
        "    ('pipe1',info_pipe1),\n",
        "    (\"pipe2\",FunctionTransformer(func=info_feature))\n",
        "])\n",
        "\n",
        "info_transformer=Pipeline(steps=[\n",
        "    (\"imputer\",SimpleImputer(strategy=\"most_frequent\")),\n",
        "    (\"union\",info_union)\n",
        "])\n",
        "\n",
        "\n"
      ]
    },
    {
      "cell_type": "markdown",
      "source": [
        "##Feature Transformer"
      ],
      "metadata": {
        "id": "mCMz994wjRq2"
      },
      "id": "mCMz994wjRq2"
    },
    {
      "cell_type": "code",
      "source": [
        "Feature_Transformer=ColumnTransformer(transformers=[\n",
        "    (\"air\",airline_pipe,[\"airline\"]),\n",
        "    (\"doj\",doj_pipe,[\"date_of_journey\"]),\n",
        "    (\"loc\",location_transformer,[\"source\",\"destination\"]),\n",
        "    (\"time\",time_transformer,[\"dep_time\",\"arrival_time\"]),\n",
        "    (\"dur\",duration_transformer,[\"duration\"]),\n",
        "    (\"stops\",stops_transformer,[\"total_stops\"]),\n",
        "    (\"info\",info_transformer,[\"additional_info\"])\n",
        "\n",
        "\n",
        "],remainder=\"passthrough\")\n"
      ],
      "metadata": {
        "id": "z5iHiX12IMCA"
      },
      "execution_count": null,
      "outputs": [],
      "id": "z5iHiX12IMCA"
    },
    {
      "cell_type": "markdown",
      "source": [
        "##Pipeline"
      ],
      "metadata": {
        "id": "Y_H-vGB2jlWH"
      },
      "id": "Y_H-vGB2jlWH"
    },
    {
      "cell_type": "code",
      "source": [
        "preprocessor=Pipeline(steps=[\n",
        "    (\"transformer\",Feature_Transformer),\n",
        "    (\"selector\",SelectBySingleFeaturePerformance(estimator=RandomForestRegressor(n_estimators=3,max_depth=3,random_state=42),scoring=\"r2\",threshold=0.01))\n",
        "\n",
        "])"
      ],
      "metadata": {
        "id": "SPJPW3vIjjyN"
      },
      "id": "SPJPW3vIjjyN",
      "execution_count": null,
      "outputs": []
    },
    {
      "cell_type": "markdown",
      "id": "97b3c21b",
      "metadata": {
        "id": "97b3c21b"
      },
      "source": [
        "## 4. Preprocess Data and Upload to Bucket"
      ]
    },
    {
      "cell_type": "code",
      "execution_count": null,
      "id": "d2dd8ff4",
      "metadata": {
        "id": "d2dd8ff4"
      },
      "outputs": [],
      "source": [
        "BUCKET_NAME = \"sagemaker-flights-bucket\"\n",
        "\n",
        "DATA_PREFIX = \"data\""
      ]
    },
    {
      "cell_type": "code",
      "execution_count": null,
      "id": "a1125657",
      "metadata": {
        "id": "a1125657"
      },
      "outputs": [],
      "source": [
        "def get_file_name(name):\n",
        "    return f\"{name}-pre.csv\""
      ]
    },
    {
      "cell_type": "code",
      "execution_count": null,
      "id": "449798e5",
      "metadata": {
        "id": "449798e5"
      },
      "outputs": [],
      "source": [
        "def export_data(data, name, pre):\n",
        "    # split data into X and y subsets\n",
        "    X = data.drop(columns=\"price\")\n",
        "    y = data.price.copy()\n",
        "\n",
        "    # transformation\n",
        "    X_pre = pre.transform(X)\n",
        "\n",
        "    # exporting\n",
        "    file_name = get_file_name(name)\n",
        "    (\n",
        "        y\n",
        "        .to_frame()\n",
        "        .join(X_pre)\n",
        "        .to_csv(file_name, index=False, header=False)\n",
        "    )"
      ]
    },
    {
      "cell_type": "code",
      "execution_count": null,
      "id": "5fcb42d5",
      "metadata": {
        "id": "5fcb42d5"
      },
      "outputs": [],
      "source": [
        "def upload_to_bucket(name):\n",
        "    file_name = get_file_name(name)\n",
        "\n",
        "    (\n",
        "        boto3\n",
        "        .Session()\n",
        "        .resource(\"s3\")\n",
        "        .Bucket(BUCKET_NAME)\n",
        "        .Object(os.path.join(DATA_PREFIX, f\"{name}/{name}.csv\"))\n",
        "        .upload_file(file_name)\n",
        "    )"
      ]
    },
    {
      "cell_type": "code",
      "execution_count": null,
      "id": "382f4f2c",
      "metadata": {
        "id": "382f4f2c"
      },
      "outputs": [],
      "source": [
        "def export_and_upload_bucket(data, name, pre):\n",
        "    export_data(data, name, pre)\n",
        "    upload_to_bucket(name)"
      ]
    },
    {
      "cell_type": "code",
      "execution_count": null,
      "id": "62eb0ac9",
      "metadata": {
        "id": "62eb0ac9"
      },
      "outputs": [],
      "source": [
        "export_and_upload_bucket(train, \"train\", preprocessor)"
      ]
    },
    {
      "cell_type": "code",
      "execution_count": null,
      "id": "856c71b3",
      "metadata": {
        "id": "856c71b3"
      },
      "outputs": [],
      "source": [
        "export_and_upload_bucket(val, \"val\", preprocessor)"
      ]
    },
    {
      "cell_type": "code",
      "execution_count": null,
      "id": "21a2fc85",
      "metadata": {
        "id": "21a2fc85"
      },
      "outputs": [],
      "source": [
        "export_and_upload_bucket(test, \"test\", preprocessor)"
      ]
    },
    {
      "cell_type": "markdown",
      "id": "d8284601",
      "metadata": {
        "id": "d8284601"
      },
      "source": [
        "## 5. Model and Hyperparameter Tuning Set-up"
      ]
    },
    {
      "cell_type": "code",
      "execution_count": null,
      "id": "ebb6a812",
      "metadata": {
        "id": "ebb6a812"
      },
      "outputs": [],
      "source": [
        "session = sagemaker.Session()\n",
        "region_name = session.boto_region_name"
      ]
    },
    {
      "cell_type": "code",
      "execution_count": null,
      "id": "00adadb6",
      "metadata": {
        "id": "00adadb6"
      },
      "outputs": [],
      "source": [
        "output_path = f\"s3://{BUCKET_NAME}/model/output\""
      ]
    },
    {
      "cell_type": "code",
      "execution_count": null,
      "id": "761a4ba3",
      "metadata": {
        "id": "761a4ba3"
      },
      "outputs": [],
      "source": [
        "model = Estimator(\n",
        "    image_uri=sagemaker.image_uris.retrieve(\"xgboost\", region_name, \"1.2-1\"),\n",
        "    role=sagemaker.get_execution_role(),\n",
        "    instance_count=1,\n",
        "    instance_type=\"ml.m4.xlarge\",\n",
        "    volume_size=5,\n",
        "    output_path=output_path,\n",
        "    use_spot_instances=True,\n",
        "    max_run=300,\n",
        "    max_wait=600,\n",
        "    sagemaker_session=session\n",
        ")"
      ]
    },
    {
      "cell_type": "code",
      "execution_count": null,
      "id": "92337c13",
      "metadata": {
        "id": "92337c13"
      },
      "outputs": [],
      "source": [
        "model.set_hyperparameters(\n",
        "    objective=\"reg:linear\",\n",
        "    num_round=10,\n",
        "    eta=0.1,\n",
        "    max_depth=5,\n",
        "    subsample=0.8,\n",
        "    colsample_bytree=0.8,\n",
        "    alpha=0.1\n",
        ")"
      ]
    },
    {
      "cell_type": "code",
      "execution_count": null,
      "id": "8370fa24",
      "metadata": {
        "id": "8370fa24"
      },
      "outputs": [],
      "source": [
        "hyperparameter_ranges = {\n",
        "    \"eta\": ContinuousParameter(0.05, 0.2),\n",
        "    \"alpha\": ContinuousParameter(0, 1),\n",
        "    \"max_depth\": IntegerParameter(3, 5)\n",
        "}"
      ]
    },
    {
      "cell_type": "code",
      "execution_count": null,
      "id": "52e4eb83",
      "metadata": {
        "id": "52e4eb83"
      },
      "outputs": [],
      "source": [
        "tuner = HyperparameterTuner(\n",
        "    estimator=model,\n",
        "    objective_metric_name=\"validation:rmse\",\n",
        "    hyperparameter_ranges=hyperparameter_ranges,\n",
        "    strategy=\"Bayesian\",\n",
        "    objective_type=\"Minimize\"\n",
        ")"
      ]
    },
    {
      "cell_type": "markdown",
      "id": "a6252476",
      "metadata": {
        "id": "a6252476"
      },
      "source": [
        "## 6. Data Channels"
      ]
    },
    {
      "cell_type": "code",
      "execution_count": null,
      "id": "6881e694",
      "metadata": {
        "id": "6881e694"
      },
      "outputs": [],
      "source": [
        "def get_data_channel(name):\n",
        "    bucket_path = f\"s3://{BUCKET_NAME}/{DATA_PREFIX}/{name}\"\n",
        "    return TrainingInput(bucket_path, content_type=\"csv\")"
      ]
    },
    {
      "cell_type": "code",
      "execution_count": null,
      "id": "83d5499c",
      "metadata": {
        "id": "83d5499c",
        "outputId": "6d3dec51-c4f6-41c9-8a66-1663ec95b059"
      },
      "outputs": [
        {
          "data": {
            "text/plain": [
              "<sagemaker.inputs.TrainingInput at 0x7fa7b7b29510>"
            ]
          },
          "execution_count": 37,
          "metadata": {},
          "output_type": "execute_result"
        }
      ],
      "source": [
        "train_data_channel = get_data_channel(\"train\")\n",
        "train_data_channel"
      ]
    },
    {
      "cell_type": "code",
      "execution_count": null,
      "id": "171a1a93",
      "metadata": {
        "id": "171a1a93"
      },
      "outputs": [],
      "source": [
        "val_data_channel = get_data_channel(\"val\")"
      ]
    },
    {
      "cell_type": "code",
      "execution_count": null,
      "id": "420ff56d",
      "metadata": {
        "id": "420ff56d"
      },
      "outputs": [],
      "source": [
        "data_channels = {\n",
        "    \"train\": train_data_channel,\n",
        "    \"validation\": val_data_channel\n",
        "}"
      ]
    },
    {
      "cell_type": "markdown",
      "id": "b14058b3",
      "metadata": {
        "id": "b14058b3"
      },
      "source": [
        "## 7. Train and Tune the Model"
      ]
    },
    {
      "cell_type": "code",
      "execution_count": null,
      "id": "61d89cea",
      "metadata": {
        "id": "61d89cea",
        "outputId": "d36f00cc-4d5e-4033-f76c-92ef1fe7dec4"
      },
      "outputs": [
        {
          "name": "stderr",
          "output_type": "stream",
          "text": [
            "No finished training job found associated with this estimator. Please make sure this estimator is only used for building workflow config\n",
            "No finished training job found associated with this estimator. Please make sure this estimator is only used for building workflow config\n"
          ]
        },
        {
          "name": "stdout",
          "output_type": "stream",
          "text": [
            "......................................!\n"
          ]
        }
      ],
      "source": [
        "tuner.fit(data_channels)"
      ]
    },
    {
      "cell_type": "markdown",
      "id": "5fa6c200",
      "metadata": {
        "id": "5fa6c200"
      },
      "source": [
        "## 8. Model Evaluation"
      ]
    },
    {
      "cell_type": "code",
      "execution_count": null,
      "id": "c2df9ee1",
      "metadata": {
        "id": "c2df9ee1",
        "outputId": "10694700-955a-45b4-d0d1-a32229abbea2"
      },
      "outputs": [
        {
          "data": {
            "text/plain": [
              "<xgboost.core.Booster at 0x7fa7b7870610>"
            ]
          },
          "execution_count": 44,
          "metadata": {},
          "output_type": "execute_result"
        }
      ],
      "source": [
        "with open(\"xgboost-model\", \"rb\") as f:\n",
        "    best_model = pickle.load(f)\n",
        "\n",
        "best_model"
      ]
    },
    {
      "cell_type": "code",
      "execution_count": null,
      "id": "c4fd2e8d",
      "metadata": {
        "id": "c4fd2e8d"
      },
      "outputs": [],
      "source": [
        "def evaluate_model(name):\n",
        "    file_name = get_file_name(name)\n",
        "    data = pd.read_csv(file_name)\n",
        "\n",
        "    X = xgb.DMatrix(data.iloc[:, 1:])\n",
        "    y = data.iloc[:, 0].copy()\n",
        "\n",
        "    pred = best_model.predict(X)\n",
        "\n",
        "    return r2_score(y, pred)"
      ]
    },
    {
      "cell_type": "code",
      "source": [
        "evaluate_model(\"train\")"
      ],
      "metadata": {
        "colab": {
          "base_uri": "https://localhost:8080/"
        },
        "id": "WS5SjC1uwk7S",
        "outputId": "d76ee5c1-b7cf-4ad6-ebc1-edd6be6b473c"
      },
      "id": "WS5SjC1uwk7S",
      "execution_count": null,
      "outputs": [
        {
          "output_type": "execute_result",
          "data": {
            "text/plain": [
              "0.8945921659469604"
            ]
          },
          "metadata": {},
          "execution_count": 34
        }
      ]
    },
    {
      "cell_type": "code",
      "source": [
        "evaluate_model(\"val\")"
      ],
      "metadata": {
        "colab": {
          "base_uri": "https://localhost:8080/"
        },
        "id": "mRCvAK1Jwxi4",
        "outputId": "5bc91159-0cd7-4fb2-84e4-cf7b9b800d43"
      },
      "id": "mRCvAK1Jwxi4",
      "execution_count": null,
      "outputs": [
        {
          "output_type": "execute_result",
          "data": {
            "text/plain": [
              "0.785722553730011"
            ]
          },
          "metadata": {},
          "execution_count": 35
        }
      ]
    },
    {
      "cell_type": "code",
      "source": [
        "evaluate_model(\"test\")"
      ],
      "metadata": {
        "colab": {
          "base_uri": "https://localhost:8080/"
        },
        "id": "z-3zHX3LxBGi",
        "outputId": "858600c5-cbe8-406e-a13b-ee5f88adf1ec"
      },
      "id": "z-3zHX3LxBGi",
      "execution_count": null,
      "outputs": [
        {
          "output_type": "execute_result",
          "data": {
            "text/plain": [
              "0.8205366730690002"
            ]
          },
          "metadata": {},
          "execution_count": 36
        }
      ]
    }
  ],
  "metadata": {
    "kernelspec": {
      "display_name": "conda_python3",
      "language": "python",
      "name": "conda_python3"
    },
    "language_info": {
      "codemirror_mode": {
        "name": "ipython",
        "version": 3
      },
      "file_extension": ".py",
      "mimetype": "text/x-python",
      "name": "python",
      "nbconvert_exporter": "python",
      "pygments_lexer": "ipython3",
      "version": "3.10.14"
    },
    "colab": {
      "provenance": []
    }
  },
  "nbformat": 4,
  "nbformat_minor": 5
}